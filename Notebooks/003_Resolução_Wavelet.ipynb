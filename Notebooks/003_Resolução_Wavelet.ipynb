{
 "cells": [
  {
   "cell_type": "code",
   "execution_count": 1,
   "metadata": {},
   "outputs": [],
   "source": [
    "import pandas as pd\n",
    "import numpy as np\n",
    "import matplotlib.pyplot as plt\n",
    "\n",
    "import matplotlib\n",
    "\n",
    "from ipywidgets import interact, interactive, fixed, interact_manual\n",
    "from bruges import filters"
   ]
  },
  {
   "cell_type": "markdown",
   "metadata": {},
   "source": [
    "###  Modelo convolucional \n",
    "\n",
    "Sabe-se que o modelo convolucional é descrito pela seguinte Equação:\n",
    "\n",
    "#### $$p_t = W * Rc + \\textit{noise}$$\n",
    "\n",
    "em que:\n",
    "\n",
    "   $W$ - É a wavelet;\n",
    "    \n",
    "   $Rc$ - É a função refletividade; e\n",
    "    \n",
    "   $noise$ - ruído desconhecido\n",
    "   \n",
    "A seguir será explicado como o traço sísmico é gerado através de um modelo sintético, sem levar em consideração o fenômeno de absorção de energia nem a presença de ruídos."
   ]
  },
  {
   "cell_type": "markdown",
   "metadata": {},
   "source": [
    "----"
   ]
  },
  {
   "cell_type": "markdown",
   "metadata": {},
   "source": [
    "### Criando um modelo geológico"
   ]
  },
  {
   "cell_type": "code",
   "execution_count": 2,
   "metadata": {},
   "outputs": [],
   "source": [
    "z = np.arange(0,1000,0.1) #Vetor da profundidade de 100 - 550m\n",
    "v = np.zeros(len(z))       #Criando um vetor nulo que será armazenado a velocidade\n",
    "d = np.zeros(len(z))       #Criando um vetor nulo que será armazenado a densidade"
   ]
  },
  {
   "cell_type": "code",
   "execution_count": 22,
   "metadata": {},
   "outputs": [],
   "source": [
    "#Criando um modelo geologico de camadas\n",
    "for i in range(0,len(z)):\n",
    "    if z[i]<=100:\n",
    "        v[i]=1800 ; d[i]=2.1\n",
    "    if z[i]>100 and z[i]<=220:\n",
    "        v[i]=2200 ; d[i]=2.3\n",
    "    if z[i]>220 and z[i]<=310: \n",
    "        v[i]=2500 ; d[i]=2.55\n",
    "    if z[i]>310 and z[i]<=370: \n",
    "        v[i]=2000 ; d[i]=2.4\n",
    "    if z[i]>370 and z[i]<=390: \n",
    "        v[i]=3000 ; d[i]=2.65\n",
    "    if z[i]>390 and z[i]<=470: \n",
    "        v[i]=2500 ; d[i]=2.55\n",
    "    if z[i]>470 and z[i]<=530: \n",
    "        v[i]=3000 ; d[i]=2.65\n",
    "    if z[i]>530 and z[i]<=590: \n",
    "        v[i]=2500 ; d[i] = 2.4\n",
    "    if z[i]>590: \n",
    "        v[i]=4500 ; d[i]=2.75"
   ]
  },
  {
   "cell_type": "code",
   "execution_count": 23,
   "metadata": {},
   "outputs": [
    {
     "data": {
      "text/html": [
       "<div>\n",
       "<style scoped>\n",
       "    .dataframe tbody tr th:only-of-type {\n",
       "        vertical-align: middle;\n",
       "    }\n",
       "\n",
       "    .dataframe tbody tr th {\n",
       "        vertical-align: top;\n",
       "    }\n",
       "\n",
       "    .dataframe thead th {\n",
       "        text-align: right;\n",
       "    }\n",
       "</style>\n",
       "<table border=\"1\" class=\"dataframe\">\n",
       "  <thead>\n",
       "    <tr style=\"text-align: right;\">\n",
       "      <th></th>\n",
       "      <th>Depth</th>\n",
       "      <th>Vp</th>\n",
       "      <th>Rho</th>\n",
       "    </tr>\n",
       "  </thead>\n",
       "  <tbody>\n",
       "    <tr>\n",
       "      <th>0</th>\n",
       "      <td>0.0</td>\n",
       "      <td>1800.0</td>\n",
       "      <td>2100.0</td>\n",
       "    </tr>\n",
       "    <tr>\n",
       "      <th>1</th>\n",
       "      <td>0.1</td>\n",
       "      <td>1800.0</td>\n",
       "      <td>2100.0</td>\n",
       "    </tr>\n",
       "    <tr>\n",
       "      <th>2</th>\n",
       "      <td>0.2</td>\n",
       "      <td>1800.0</td>\n",
       "      <td>2100.0</td>\n",
       "    </tr>\n",
       "    <tr>\n",
       "      <th>3</th>\n",
       "      <td>0.3</td>\n",
       "      <td>1800.0</td>\n",
       "      <td>2100.0</td>\n",
       "    </tr>\n",
       "    <tr>\n",
       "      <th>4</th>\n",
       "      <td>0.4</td>\n",
       "      <td>1800.0</td>\n",
       "      <td>2100.0</td>\n",
       "    </tr>\n",
       "  </tbody>\n",
       "</table>\n",
       "</div>"
      ],
      "text/plain": [
       "   Depth      Vp     Rho\n",
       "0    0.0  1800.0  2100.0\n",
       "1    0.1  1800.0  2100.0\n",
       "2    0.2  1800.0  2100.0\n",
       "3    0.3  1800.0  2100.0\n",
       "4    0.4  1800.0  2100.0"
      ]
     },
     "execution_count": 23,
     "metadata": {},
     "output_type": "execute_result"
    }
   ],
   "source": [
    "#Criando um DataFrame\n",
    "df = pd.DataFrame({'Depth':z,'Vp':v,'Rho':d*1000}) #multiplicando densidade por 1000 (SI)\n",
    "df.head()"
   ]
  },
  {
   "cell_type": "code",
   "execution_count": 24,
   "metadata": {},
   "outputs": [
    {
     "data": {
      "image/png": "[encoded data removed]",
      "text/plain": [
       "<Figure size 432x432 with 3 Axes>"
      ]
     },
     "metadata": {
      "needs_background": "light"
     },
     "output_type": "display_data"
    }
   ],
   "source": [
    "#Plotando o modelo geológico, velocidade e densidade\n",
    "y_min, y_max, y_step = 0,1000,50\n",
    "\n",
    "fig,axes = plt.subplots(ncols=3,figsize=(6,6))\n",
    "\n",
    "for ax in axes:\n",
    "    ax.invert_yaxis()\n",
    "\n",
    "color = ['lightgreen','yellow','green','orange','blue','red']\n",
    "for i,j in zip(df.Vp.unique(),color):\n",
    "    axes[0].fill_betweenx(y=df.Depth,\n",
    "                         x1=1,\n",
    "                         x2=0,\n",
    "                         where=df.Vp==i,\n",
    "                         color=j,\n",
    "                     alpha=0.6)\n",
    "    \n",
    "axes[0].set_ylabel('Profundidade (m)')\n",
    "axes[0].set_title('Modelo de camadas')\n",
    "axes[0].set_yticks(np.arange(y_min,y_max+y_step,y_step))\n",
    "\n",
    "axes[1].plot(df.Vp,df.Depth,color='black')\n",
    "axes[1].set_title('Velocidade')\n",
    "\n",
    "axes[1].set_xlabel('m/s')\n",
    "axes[2].plot(df.Rho,df.Depth,color='black')\n",
    "axes[2].set_xlabel('Kg/m$^3$')\n",
    "axes[2].set_title('Densidade')\n",
    "\n",
    "fig.tight_layout()"
   ]
  },
  {
   "cell_type": "markdown",
   "metadata": {},
   "source": [
    "Antes de calcular o coeficiente de reflexão, precisamos definir  impedância acústica. A <b>impedância acústica</b> ($AI$) é definida em função da velocidade ($v$) e da densidade ($\\rho$), e em geral, quanto maior a impedância acústica, \"mais rigida\" é a rocha (<a href=\"https://www.geologiabr.com/livros/geofisica-de-exploracao\"> Kearey et.al, 2009 </a>):\n",
    "\n",
    "$$ AI = v \\cdot \\rho $$\n",
    "\n",
    "O <b> coeficiente de reflexão </b> ($R_c$) é um efeito numérico da interface sobre a propagação de onda, e tem a ver com as proporções relativas de energia transmitida e refletida. Para um raio que incide normalmente (ângulo de 90°) sobre uma camada, pode ser definido como:\n",
    "\n",
    "### <center> </center>\n",
    "\n",
    "$$ R_c = \\frac{V_{2}\\cdot\\rho_{2}-V_{1} \\cdot \\rho_{1}}{V_{2}\\cdot\\rho_{2}+V_{1} \\cdot \\rho_{1}} = \\frac{AI_2-AI_1}{AI_2+AI_1} $$"
   ]
  },
  {
   "cell_type": "code",
   "execution_count": 25,
   "metadata": {},
   "outputs": [
    {
     "data": {
      "text/html": [
       "<div>\n",
       "<style scoped>\n",
       "    .dataframe tbody tr th:only-of-type {\n",
       "        vertical-align: middle;\n",
       "    }\n",
       "\n",
       "    .dataframe tbody tr th {\n",
       "        vertical-align: top;\n",
       "    }\n",
       "\n",
       "    .dataframe thead th {\n",
       "        text-align: right;\n",
       "    }\n",
       "</style>\n",
       "<table border=\"1\" class=\"dataframe\">\n",
       "  <thead>\n",
       "    <tr style=\"text-align: right;\">\n",
       "      <th></th>\n",
       "      <th>Depth</th>\n",
       "      <th>Vp</th>\n",
       "      <th>Rho</th>\n",
       "      <th>AI</th>\n",
       "    </tr>\n",
       "  </thead>\n",
       "  <tbody>\n",
       "    <tr>\n",
       "      <th>0</th>\n",
       "      <td>0.0</td>\n",
       "      <td>1800.0</td>\n",
       "      <td>2100.0</td>\n",
       "      <td>3780000.0</td>\n",
       "    </tr>\n",
       "    <tr>\n",
       "      <th>1</th>\n",
       "      <td>0.1</td>\n",
       "      <td>1800.0</td>\n",
       "      <td>2100.0</td>\n",
       "      <td>3780000.0</td>\n",
       "    </tr>\n",
       "    <tr>\n",
       "      <th>2</th>\n",
       "      <td>0.2</td>\n",
       "      <td>1800.0</td>\n",
       "      <td>2100.0</td>\n",
       "      <td>3780000.0</td>\n",
       "    </tr>\n",
       "    <tr>\n",
       "      <th>3</th>\n",
       "      <td>0.3</td>\n",
       "      <td>1800.0</td>\n",
       "      <td>2100.0</td>\n",
       "      <td>3780000.0</td>\n",
       "    </tr>\n",
       "    <tr>\n",
       "      <th>4</th>\n",
       "      <td>0.4</td>\n",
       "      <td>1800.0</td>\n",
       "      <td>2100.0</td>\n",
       "      <td>3780000.0</td>\n",
       "    </tr>\n",
       "  </tbody>\n",
       "</table>\n",
       "</div>"
      ],
      "text/plain": [
       "   Depth      Vp     Rho         AI\n",
       "0    0.0  1800.0  2100.0  3780000.0\n",
       "1    0.1  1800.0  2100.0  3780000.0\n",
       "2    0.2  1800.0  2100.0  3780000.0\n",
       "3    0.3  1800.0  2100.0  3780000.0\n",
       "4    0.4  1800.0  2100.0  3780000.0"
      ]
     },
     "execution_count": 25,
     "metadata": {},
     "output_type": "execute_result"
    }
   ],
   "source": [
    "df['AI'] = df['Vp']*df['Rho'] #Calculando a impedância acústica\n",
    "df.head()"
   ]
  },
  {
   "cell_type": "code",
   "execution_count": 26,
   "metadata": {},
   "outputs": [
    {
     "data": {
      "text/html": [
       "<div>\n",
       "<style scoped>\n",
       "    .dataframe tbody tr th:only-of-type {\n",
       "        vertical-align: middle;\n",
       "    }\n",
       "\n",
       "    .dataframe tbody tr th {\n",
       "        vertical-align: top;\n",
       "    }\n",
       "\n",
       "    .dataframe thead th {\n",
       "        text-align: right;\n",
       "    }\n",
       "</style>\n",
       "<table border=\"1\" class=\"dataframe\">\n",
       "  <thead>\n",
       "    <tr style=\"text-align: right;\">\n",
       "      <th></th>\n",
       "      <th>Depth</th>\n",
       "      <th>Vp</th>\n",
       "      <th>Rho</th>\n",
       "      <th>AI</th>\n",
       "      <th>Rc</th>\n",
       "    </tr>\n",
       "  </thead>\n",
       "  <tbody>\n",
       "    <tr>\n",
       "      <th>0</th>\n",
       "      <td>0.0</td>\n",
       "      <td>1800.0</td>\n",
       "      <td>2100.0</td>\n",
       "      <td>3780000.0</td>\n",
       "      <td>0.0</td>\n",
       "    </tr>\n",
       "    <tr>\n",
       "      <th>1</th>\n",
       "      <td>0.1</td>\n",
       "      <td>1800.0</td>\n",
       "      <td>2100.0</td>\n",
       "      <td>3780000.0</td>\n",
       "      <td>0.0</td>\n",
       "    </tr>\n",
       "    <tr>\n",
       "      <th>2</th>\n",
       "      <td>0.2</td>\n",
       "      <td>1800.0</td>\n",
       "      <td>2100.0</td>\n",
       "      <td>3780000.0</td>\n",
       "      <td>0.0</td>\n",
       "    </tr>\n",
       "    <tr>\n",
       "      <th>3</th>\n",
       "      <td>0.3</td>\n",
       "      <td>1800.0</td>\n",
       "      <td>2100.0</td>\n",
       "      <td>3780000.0</td>\n",
       "      <td>0.0</td>\n",
       "    </tr>\n",
       "    <tr>\n",
       "      <th>4</th>\n",
       "      <td>0.4</td>\n",
       "      <td>1800.0</td>\n",
       "      <td>2100.0</td>\n",
       "      <td>3780000.0</td>\n",
       "      <td>0.0</td>\n",
       "    </tr>\n",
       "  </tbody>\n",
       "</table>\n",
       "</div>"
      ],
      "text/plain": [
       "   Depth      Vp     Rho         AI   Rc\n",
       "0    0.0  1800.0  2100.0  3780000.0  0.0\n",
       "1    0.1  1800.0  2100.0  3780000.0  0.0\n",
       "2    0.2  1800.0  2100.0  3780000.0  0.0\n",
       "3    0.3  1800.0  2100.0  3780000.0  0.0\n",
       "4    0.4  1800.0  2100.0  3780000.0  0.0"
      ]
     },
     "execution_count": 26,
     "metadata": {},
     "output_type": "execute_result"
    }
   ],
   "source": [
    "#Calculando o coeficiente de reflexão\n",
    "Rc = np.zeros(len(df['AI']))\n",
    "for i in range(0,len(df['AI'])-1):\n",
    "    Rc[i] = (df['AI'][i+1]-df['AI'][i])/(df['AI'][i+1]+df['AI'][i])\n",
    "df['Rc'] = Rc\n",
    "df.head()"
   ]
  },
  {
   "cell_type": "markdown",
   "metadata": {},
   "source": [
    "Devemos lembrar que no modelo convolucional do traço sísmico temos a representação de interação da onda acústica com uma camada, que é registrada como o tempo duplo (<i>Two way travel time</i>) que a onda percorre da superfície até refletir em uma camada e retornar a superfície para ser registrada por um receptor.\n",
    "\n",
    "Para estimar o templo duplo (TWT), temos que fazer a soma cumulativa da vagarosidade registrada em poço.\n",
    "\n",
    "A vagarosidade é o inverso da velocidade acústica:\n",
    "\n",
    "$$ \\Delta t = \\frac{1}{v}. $$\n",
    "\n",
    "Comumente é apresentada em pés por segundo (pé/s), porém sua unidade no SI é dado em metros por segundo (m/s)."
   ]
  },
  {
   "cell_type": "code",
   "execution_count": 27,
   "metadata": {},
   "outputs": [
    {
     "data": {
      "text/html": [
       "<div>\n",
       "<style scoped>\n",
       "    .dataframe tbody tr th:only-of-type {\n",
       "        vertical-align: middle;\n",
       "    }\n",
       "\n",
       "    .dataframe tbody tr th {\n",
       "        vertical-align: top;\n",
       "    }\n",
       "\n",
       "    .dataframe thead th {\n",
       "        text-align: right;\n",
       "    }\n",
       "</style>\n",
       "<table border=\"1\" class=\"dataframe\">\n",
       "  <thead>\n",
       "    <tr style=\"text-align: right;\">\n",
       "      <th></th>\n",
       "      <th>Depth</th>\n",
       "      <th>Vp</th>\n",
       "      <th>Rho</th>\n",
       "      <th>AI</th>\n",
       "      <th>Rc</th>\n",
       "      <th>Dt_SI</th>\n",
       "      <th>TWT</th>\n",
       "    </tr>\n",
       "  </thead>\n",
       "  <tbody>\n",
       "    <tr>\n",
       "      <th>0</th>\n",
       "      <td>0.0</td>\n",
       "      <td>1800.0</td>\n",
       "      <td>2100.0</td>\n",
       "      <td>3780000.0</td>\n",
       "      <td>0.0</td>\n",
       "      <td>0.000556</td>\n",
       "      <td>0.117758</td>\n",
       "    </tr>\n",
       "    <tr>\n",
       "      <th>1</th>\n",
       "      <td>0.1</td>\n",
       "      <td>1800.0</td>\n",
       "      <td>2100.0</td>\n",
       "      <td>3780000.0</td>\n",
       "      <td>0.0</td>\n",
       "      <td>0.000556</td>\n",
       "      <td>0.117869</td>\n",
       "    </tr>\n",
       "    <tr>\n",
       "      <th>2</th>\n",
       "      <td>0.2</td>\n",
       "      <td>1800.0</td>\n",
       "      <td>2100.0</td>\n",
       "      <td>3780000.0</td>\n",
       "      <td>0.0</td>\n",
       "      <td>0.000556</td>\n",
       "      <td>0.117980</td>\n",
       "    </tr>\n",
       "    <tr>\n",
       "      <th>3</th>\n",
       "      <td>0.3</td>\n",
       "      <td>1800.0</td>\n",
       "      <td>2100.0</td>\n",
       "      <td>3780000.0</td>\n",
       "      <td>0.0</td>\n",
       "      <td>0.000556</td>\n",
       "      <td>0.118092</td>\n",
       "    </tr>\n",
       "    <tr>\n",
       "      <th>4</th>\n",
       "      <td>0.4</td>\n",
       "      <td>1800.0</td>\n",
       "      <td>2100.0</td>\n",
       "      <td>3780000.0</td>\n",
       "      <td>0.0</td>\n",
       "      <td>0.000556</td>\n",
       "      <td>0.118203</td>\n",
       "    </tr>\n",
       "  </tbody>\n",
       "</table>\n",
       "</div>"
      ],
      "text/plain": [
       "   Depth      Vp     Rho         AI   Rc     Dt_SI       TWT\n",
       "0    0.0  1800.0  2100.0  3780000.0  0.0  0.000556  0.117758\n",
       "1    0.1  1800.0  2100.0  3780000.0  0.0  0.000556  0.117869\n",
       "2    0.2  1800.0  2100.0  3780000.0  0.0  0.000556  0.117980\n",
       "3    0.3  1800.0  2100.0  3780000.0  0.0  0.000556  0.118092\n",
       "4    0.4  1800.0  2100.0  3780000.0  0.0  0.000556  0.118203"
      ]
     },
     "execution_count": 27,
     "metadata": {},
     "output_type": "execute_result"
    }
   ],
   "source": [
    "#Consideremos a velocidade média dos 100 primeiros metros 1700\n",
    "df['Dt_SI'] = 1/df['Vp'] #Obtendo a vagarosidade no SI\n",
    "df['TWT']=(2*100/1700) + 2*(df['Depth'][1]-df['Depth'][0])*np.cumsum(df['Dt_SI']) #Calculando o Two-way-travel time\n",
    "df.head()"
   ]
  },
  {
   "cell_type": "code",
   "execution_count": 28,
   "metadata": {},
   "outputs": [
    {
     "data": {
      "text/plain": [
       "0.8174713012478454"
      ]
     },
     "execution_count": 28,
     "metadata": {},
     "output_type": "execute_result"
    }
   ],
   "source": [
    "df.TWT.max()"
   ]
  },
  {
   "cell_type": "code",
   "execution_count": 29,
   "metadata": {},
   "outputs": [
    {
     "data": {
      "image/png": "[encoded data removed]",
      "text/plain": [
       "<Figure size 792x432 with 5 Axes>"
      ]
     },
     "metadata": {
      "needs_background": "light"
     },
     "output_type": "display_data"
    }
   ],
   "source": [
    "#Plotando modelo e o coeficiente de reflexão\n",
    "fig,axes = plt.subplots(ncols=5,figsize=(11,6))\n",
    "\n",
    "for ax in axes:\n",
    "    ax.invert_yaxis()\n",
    "\n",
    "for i,j in zip(df.Vp.unique(),color):\n",
    "    axes[0].fill_betweenx(y=df.TWT,\n",
    "                         x1=1,\n",
    "                         x2=0,\n",
    "                         where=df.Vp==i,\n",
    "                         color=j,\n",
    "                     alpha=0.6)\n",
    "    \n",
    "axes[0].set_title('Modelo Geológico')\n",
    "axes[0].set_ylabel('Two way travel-time (s)')\n",
    "    \n",
    "axes[1].plot(df.Vp,df.TWT,color='black')\n",
    "axes[1].set_title('Velocidade')\n",
    "axes[1].set_xlabel('m/s')\n",
    "axes[1].set_ylabel('Tempo duplo (s)')\n",
    "\n",
    "axes[2].plot(df.Rho,df.TWT,color='black')\n",
    "axes[2].set_title('Densidade')\n",
    "axes[2].set_xlabel('Kg/m$^3$')\n",
    "\n",
    "axes[3].plot(df.AI,df.TWT,color='black')\n",
    "axes[3].set_title('Impedância Acústica')\n",
    "axes[3].set_xlabel('Kg/(s.m$^2$)')\n",
    "\n",
    "axes[4].plot(df.Rc,df.TWT,color='black')\n",
    "axes[4].set_title('Coeficiente de Reflexão')\n",
    "axes[4].set_xticks(np.arange(-0.3,0.3+0.3,0.3))\n",
    "\n",
    "fig.tight_layout()"
   ]
  },
  {
   "cell_type": "markdown",
   "metadata": {},
   "source": [
    "### Reamostrando o dado\n",
    "\n",
    "Vamos criar um traço sintético com taxa de amostragem igual a $\\Delta t = 2ms$. Para isso, teremos que reamostrar o nosso dado sintético."
   ]
  },
  {
   "cell_type": "code",
   "execution_count": 30,
   "metadata": {},
   "outputs": [],
   "source": [
    "#Reamostrando a impedância acústica para uma taxa de amostragem de 2ms\n",
    "dt = 0.002\n",
    "t = np.arange(0,df.TWT.max()+dt,dt)\n",
    "Vp = np.interp(x=t,xp=df['TWT'],fp=df['Vp'])\n",
    "AI = np.interp(x=t,xp=df['TWT'],fp=df['AI'])"
   ]
  },
  {
   "cell_type": "code",
   "execution_count": 31,
   "metadata": {},
   "outputs": [],
   "source": [
    "#Calculando o coeficiente de reflexão\n",
    "Rc = np.zeros(len(AI))\n",
    "for i in range(0,len(Rc)-1):\n",
    "    Rc[i] = (AI[i+1]-AI[i])/ (AI[i+1]+AI[i])"
   ]
  },
  {
   "cell_type": "code",
   "execution_count": 32,
   "metadata": {},
   "outputs": [
    {
     "data": {
      "text/html": [
       "<div>\n",
       "<style scoped>\n",
       "    .dataframe tbody tr th:only-of-type {\n",
       "        vertical-align: middle;\n",
       "    }\n",
       "\n",
       "    .dataframe tbody tr th {\n",
       "        vertical-align: top;\n",
       "    }\n",
       "\n",
       "    .dataframe thead th {\n",
       "        text-align: right;\n",
       "    }\n",
       "</style>\n",
       "<table border=\"1\" class=\"dataframe\">\n",
       "  <thead>\n",
       "    <tr style=\"text-align: right;\">\n",
       "      <th></th>\n",
       "      <th>Time</th>\n",
       "      <th>Vp</th>\n",
       "      <th>AI</th>\n",
       "      <th>Rc</th>\n",
       "    </tr>\n",
       "  </thead>\n",
       "  <tbody>\n",
       "    <tr>\n",
       "      <th>0</th>\n",
       "      <td>0.000</td>\n",
       "      <td>1800.0</td>\n",
       "      <td>3780000.0</td>\n",
       "      <td>0.0</td>\n",
       "    </tr>\n",
       "    <tr>\n",
       "      <th>1</th>\n",
       "      <td>0.002</td>\n",
       "      <td>1800.0</td>\n",
       "      <td>3780000.0</td>\n",
       "      <td>0.0</td>\n",
       "    </tr>\n",
       "    <tr>\n",
       "      <th>2</th>\n",
       "      <td>0.004</td>\n",
       "      <td>1800.0</td>\n",
       "      <td>3780000.0</td>\n",
       "      <td>0.0</td>\n",
       "    </tr>\n",
       "    <tr>\n",
       "      <th>3</th>\n",
       "      <td>0.006</td>\n",
       "      <td>1800.0</td>\n",
       "      <td>3780000.0</td>\n",
       "      <td>0.0</td>\n",
       "    </tr>\n",
       "    <tr>\n",
       "      <th>4</th>\n",
       "      <td>0.008</td>\n",
       "      <td>1800.0</td>\n",
       "      <td>3780000.0</td>\n",
       "      <td>0.0</td>\n",
       "    </tr>\n",
       "  </tbody>\n",
       "</table>\n",
       "</div>"
      ],
      "text/plain": [
       "    Time      Vp         AI   Rc\n",
       "0  0.000  1800.0  3780000.0  0.0\n",
       "1  0.002  1800.0  3780000.0  0.0\n",
       "2  0.004  1800.0  3780000.0  0.0\n",
       "3  0.006  1800.0  3780000.0  0.0\n",
       "4  0.008  1800.0  3780000.0  0.0"
      ]
     },
     "execution_count": 32,
     "metadata": {},
     "output_type": "execute_result"
    }
   ],
   "source": [
    "#Criando um DataFrame com as informações anteriores\n",
    "trace = pd.DataFrame({'Time':t,\n",
    "                      'Vp':Vp,\n",
    "                     'AI':AI,\n",
    "                     'Rc':Rc})\n",
    "trace.head()"
   ]
  },
  {
   "cell_type": "markdown",
   "metadata": {},
   "source": [
    "### Criando uma wavelet de fase zero\n",
    "\n",
    "É importante lembrar que fontes reais como <i>vibroseis</i> e <i>airguns</i> produzem assinaturas de fase minima. A wavelet de fase minima é aquela que não tem nenhuma energia registrada antes do tempo zero.\n",
    "\n",
    "Para efeitos didáticos, será criada uma wavelet de fase zero, aquela cujo o pico de amplitude está centrada em zero e com polaridade positiva (padrão americano)."
   ]
  },
  {
   "cell_type": "code",
   "execution_count": 40,
   "metadata": {},
   "outputs": [
    {
     "data": {
      "text/plain": [
       "array([1800.        , 2200.        , 2349.2869875 , 2500.        ,\n",
       "       2300.95068329, 2000.        , 2597.14795023, 3000.        ,\n",
       "       4500.        ])"
      ]
     },
     "execution_count": 40,
     "metadata": {},
     "output_type": "execute_result"
    }
   ],
   "source": [
    "trace.Vp.unique()"
   ]
  },
  {
   "cell_type": "code",
   "execution_count": 41,
   "metadata": {},
   "outputs": [],
   "source": [
    "t_min,t_max, t_step = 0.05, 0.75, 0.05\n",
    "\n",
    "def wavelet_comp(df,wave_type,duration,f1,f2,f3,f4,t_min=t_min,t_max=t_max,t_step=t_step,dt=0.002):\n",
    "    fig,axes = plt.subplots(ncols=4,figsize=(8,5))\n",
    "\n",
    "    for ax in axes:\n",
    "        ax.set_ylim(t_min,t_max,t_step)\n",
    "        ax.invert_yaxis()\n",
    "        \n",
    "    color = ['lightgreen','yellow','green','orange','green','blue','orange','orange','red']\n",
    "    \n",
    "    for i,j in zip(df.Vp.unique(),color):\n",
    "        axes[0].fill_betweenx(y=df.Time,\n",
    "                         x1=1,\n",
    "                         x2=0,\n",
    "                         where=df.Vp==i,\n",
    "                         color=j,\n",
    "                     alpha=0.6)\n",
    "\n",
    "    axes[1].plot(df.Rc,df.Time,color='black')\n",
    "    axes[1].set_title('Coeficiente de Reflexão')\n",
    "\n",
    "    if wave_type =='ricker':\n",
    "        wave,t_wave = wave_ormsby,t_wave = filters.wavelets.ricker(duration=duration,dt=dt,f=f1,return_t=True)\n",
    "    \n",
    "    if wave_type =='ormsby':\n",
    "        wave,t_wave = wave_ormsby,t_wave = filters.wavelets.ormsby(duration=duration,dt=dt,f=[f1,f2,f3,f4],return_t=True)\n",
    "    \n",
    "    if wave_type =='gabor':\n",
    "        wave,t_wave = wave_ormsby,t_wave = filters.wavelets.gabor(duration=duration,dt=dt,f=f1,return_t=True)\n",
    "        \n",
    "    axes[2].plot(wave,t_wave,color='black')\n",
    "    axes[2].fill_betweenx(y=t_wave,\n",
    "                     x1=wave,\n",
    "                     x2=0,\n",
    "                     where=wave>0,color='blue')\n",
    "\n",
    "    axes[2].plot(wave,t_wave,color='black')\n",
    "    axes[2].fill_betweenx(y=t_wave,\n",
    "                     x1=wave,\n",
    "                     x2=0,\n",
    "                     where=wave<0,color='red')\n",
    "\n",
    "    axes[2].set_ylim(t_wave.min(),t_wave.max())\n",
    "\n",
    "    axes[2].set_title('Wavelet')\n",
    "    \n",
    "    trace = np.convolve(wave,df.Rc,mode='same')\n",
    "    \n",
    "    axes[3].plot(trace,df.Time,color='black')\n",
    "    \n",
    "    axes[3].fill_betweenx(y=df.Time,\n",
    "                 x1=trace,\n",
    "                 x2=0,\n",
    "                 where=trace>0,color='blue')\n",
    "    \n",
    "    axes[3].fill_betweenx(y=df.Time,\n",
    "                 x1=trace,\n",
    "                 x2=0,\n",
    "                 where=trace<0,color='red')\n",
    "\n",
    "    axes[3].set_title('Traço Sísmico')\n",
    "\n",
    "    fig.text(x=0.50,y=0.5,s='*',fontsize=16)\n",
    "\n",
    "    fig.text(x=0.76,y=0.5,s='=',fontsize=16)\n",
    "\n",
    "    fig.tight_layout()"
   ]
  },
  {
   "cell_type": "code",
   "execution_count": 42,
   "metadata": {},
   "outputs": [
    {
     "data": {
      "text/plain": [
       "array([1800.        , 2200.        , 2349.2869875 , 2500.        ,\n",
       "       2300.95068329, 2000.        , 2597.14795023, 3000.        ,\n",
       "       4500.        ])"
      ]
     },
     "execution_count": 42,
     "metadata": {},
     "output_type": "execute_result"
    }
   ],
   "source": [
    "trace.Vp.unique()"
   ]
  },
  {
   "cell_type": "code",
   "execution_count": 43,
   "metadata": {},
   "outputs": [
    {
     "data": {
      "application/vnd.jupyter.widget-view+json": {
       "model_id": "c73925bd64664fbf8c0a7b01c19beca2",
       "version_major": 2,
       "version_minor": 0
      },
      "text/plain": [
       "interactive(children=(Dropdown(description='wave_type', options=('ricker', 'ormsby', 'gabor'), value='ricker')…"
      ]
     },
     "metadata": {},
     "output_type": "display_data"
    }
   ],
   "source": [
    "@interact(duration_ms=(128,512,64),\n",
    "                 f1_hz=(0,150,2.5),\n",
    "                 f2_hz=(5,155,2.5),\n",
    "                 f3_hz=(10,160,2.5),\n",
    "                 f4_hz=(15,165,2.5),\n",
    "         wave_type=['ricker','ormsby','gabor'])\n",
    "def update(wave_type,duration_ms,f1_hz,f2_hz,f3_hz,f4_hz):\n",
    "    wavelet_comp(trace,wave_type,duration_ms/1000,f1_hz,f2_hz,f3_hz,f4_hz)"
   ]
  },
  {
   "cell_type": "code",
   "execution_count": null,
   "metadata": {},
   "outputs": [],
   "source": []
  },
  {
   "cell_type": "code",
   "execution_count": null,
   "metadata": {},
   "outputs": [],
   "source": []
  }
 ],
 "metadata": {
  "kernelspec": {
   "display_name": "Python 3",
   "language": "python",
   "name": "python3"
  },
  "language_info": {
   "codemirror_mode": {
    "name": "ipython",
    "version": 3
   },
   "file_extension": ".py",
   "mimetype": "text/x-python",
   "name": "python",
   "nbconvert_exporter": "python",
   "pygments_lexer": "ipython3",
   "version": "3.8.8"
  }
 },
 "nbformat": 4,
 "nbformat_minor": 4
}
