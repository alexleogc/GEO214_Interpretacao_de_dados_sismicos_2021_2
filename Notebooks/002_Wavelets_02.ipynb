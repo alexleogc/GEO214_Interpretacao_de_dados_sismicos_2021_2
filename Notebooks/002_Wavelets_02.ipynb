{
 "cells": [
  {
   "cell_type": "code",
   "execution_count": 38,
   "metadata": {},
   "outputs": [],
   "source": [
    "import numpy as np\n",
    "import pandas as pd\n",
    "from scipy.fft import fft, fftfreq, fftshift\n",
    "import matplotlib.pyplot as plt\n",
    "import ipywidgets as widgets\n",
    "\n",
    "from ipywidgets import interact, interactive, fixed, interact_manual\n",
    "from bruges.filters import wavelets"
   ]
  },
  {
   "cell_type": "markdown",
   "metadata": {},
   "source": [
    "### Wavelets\n",
    "\n",
    "Um aspecto fundamental de qualquer interpretação sísmica nas quais amplitudes são usadas para mapear reservatórios é a forma da wavelet e a resolução sísmica. Em termos de reconhecimento de topo e base das camadas, o seu reconhecimento é controlado pelas propriedades da wavelet.\n",
    "\n",
    "O traço sísmico é composto de energia e é composto por uma variedade de frequência.\n"
   ]
  },
  {
   "cell_type": "markdown",
   "metadata": {},
   "source": [
    "--------"
   ]
  },
  {
   "cell_type": "markdown",
   "metadata": {},
   "source": [
    "### Exemplos de wavelet\n",
    "\n",
    "Na interpretação sísmica são utilizadas wavelets idealizadas para gerar traços sínteticos a partir de poços, já que a wavelet exata do traço sísmico é desconhecida. A seguir serão apresentadas alguns exemplos de wavelets."
   ]
  },
  {
   "cell_type": "markdown",
   "metadata": {},
   "source": [
    "### Wavelet Ricker \n",
    "\n",
    "A <i> wavelet</i> Ricker - segunda derivada da função gaussiana - é definida por uma frequência central única e tem apenas dois lobos laterais. É frequentemente utilizada como <i>wavelet</i> de fase zero em modelagens sintéticas de traços sísmicos. <a href=\"https://www.researchgate.net/post/Why_Ricker_wavelets_are_not_appropriate_for_synthetic_seismograms\">Hosken (1988)</a> e <a href=\"https://books.google.com.br/books/about/Seismic_Amplitude.html?id=1RYmAwAAQBAJ&redir_esc=y\">Simm e Bacon</a> (2014) desaconselha fortemente o uso desta <i> wavelet </i> para a criação de traços sísmicos, os quais podemos enuciar:\n",
    "    \n",
    " <ol>\n",
    "  <li>Elas não são observadas na natureza;</li>\n",
    "     <li>As 'standard' computable wavelets for rough and ready synthetic seismograms, they suffer from a confusion of definition-there are several types and</li>\n",
    "  <li>Ter apenas uma única definição de parâmetro os torna inflexíveis demais para a aplicação de sismograma sintético.</li>\n",
    "  <li>The Ricker types which show the most similarity with wavelets encountered in synthetic seismogram work may have two loops, three loops or be intermediate fractional-derivative wavelets.</li>\n",
    "     <li> Minimum-phase Ricker wave lets suffer from a delay which depends on the choice of sample interval. Such\n",
    "a delay can be subtracted out in an arbitrary way, but again no standard convention exists for doing this. </li>\n",
    "</ol> \n",
    "\n",
    "Matematicamente, a <i>wavelet</i> Ricker pode ser definida como:\n",
    "    \n",
    "$$ A(t) = (1-2\\pi^2f_M^2t^2)e^{-\\pi^2f_M^2t^2} $$"
   ]
  },
  {
   "cell_type": "code",
   "execution_count": 14,
   "metadata": {},
   "outputs": [],
   "source": [
    "#Criando uma wavelet ricker utilizando o pacote bruges\n",
    "#frequência de 25Hz, taxa de amostragem de 2ms e  tempo de duração de 256ms\n",
    "freq = 25\n",
    "wave_ricker,t_wave = wavelets.ricker(0.256,dt=0.002,f=freq,return_t=True)"
   ]
  },
  {
   "cell_type": "code",
   "execution_count": 18,
   "metadata": {},
   "outputs": [
    {
     "data": {
      "text/plain": [
       "<matplotlib.collections.PolyCollection at 0x211292fc580>"
      ]
     },
     "execution_count": 18,
     "metadata": {},
     "output_type": "execute_result"
    },
    {
     "data": {
      "image/png": "[encoded data removed]",
      "text/plain": [
       "<Figure size 432x288 with 1 Axes>"
      ]
     },
     "metadata": {
      "needs_background": "light"
     },
     "output_type": "display_data"
    }
   ],
   "source": [
    "fig, axes = plt.subplots()\n",
    "\n",
    "axes.set_title(f'Wavelet Ricker de fase zero com frequência = {freq} Hz')\n",
    "axes.plot(t_wave,wave_ricker,color='black')\n",
    "axes.fill_between(x=t_wave,y1=wave_ricker,y2=0,where=(wave_ricker>0),color='blue')\n",
    "axes.fill_between(x=t_wave,y1=wave_ricker,y2=0,where=(wave_ricker<0),color='red')"
   ]
  },
  {
   "cell_type": "markdown",
   "metadata": {},
   "source": [
    "#### Extraindo o espectro de frequência da wavelet Ricker"
   ]
  },
  {
   "cell_type": "code",
   "execution_count": 20,
   "metadata": {},
   "outputs": [],
   "source": [
    "N = len(wave_ricker)\n",
    "dt=0.002\n",
    "f_max = 1/(2*dt)"
   ]
  },
  {
   "cell_type": "code",
   "execution_count": 52,
   "metadata": {},
   "outputs": [],
   "source": [
    "def plot_ricker_wavelet(duration,dt,freq):\n",
    "    fig, axes = plt.subplots(ncols=2,figsize=(12,5))\n",
    "\n",
    "    wave_ricker,t_wave = wavelets.ricker(duration,dt=dt,f=freq,return_t=True)\n",
    "    \n",
    "    axes[0].set_title(f'Wavelet Ricker de fase zero com frequência = {freq} Hz')\n",
    "    axes[0].plot(t_wave,wave_ricker,color='black')\n",
    "    axes[0].fill_between(x=t_wave,y1=wave_ricker,y2=0,where=(wave_ricker>0),color='blue')\n",
    "    axes[0].fill_between(x=t_wave,y1=wave_ricker,y2=0,where=(wave_ricker<0),color='red')\n",
    "    \n",
    "    N = len(wave_ricker)\n",
    "    dt=dt\n",
    "    f_max = 1/(2*dt)\n",
    "\n",
    "    yf = fft(wave_ricker)\n",
    "    xf = np.linspace(0,f_max,N//2)\n",
    "\n",
    "    axes[1].plot(xf,2.0/N * np.abs(yf[:N//2]),c='black')\n",
    "    axes[1].fill_between(x=xf,y1= 2.0/N * np.abs(yf[0:N//2]),y2=0,\n",
    "                 color='blue',alpha=0.5,\n",
    "                 where=(2.0/N * np.abs(yf[0:N//2])>0))\n",
    "\n",
    "    axes[1].set_title('Espectro de Frequência')\n",
    "    \n",
    "    fig.tight_layout()\n",
    "    fig.show()"
   ]
  },
  {
   "cell_type": "code",
   "execution_count": 53,
   "metadata": {},
   "outputs": [
    {
     "data": {
      "application/vnd.jupyter.widget-view+json": {
       "model_id": "398602a8d35949ad94648731e821afd2",
       "version_major": 2,
       "version_minor": 0
      },
      "text/plain": [
       "interactive(children=(IntSlider(value=512, description='duration_sec', max=1028, min=64, step=64), FloatSlider…"
      ]
     },
     "metadata": {},
     "output_type": "display_data"
    }
   ],
   "source": [
    "dt = 0.002\n",
    "@interact(duration_sec=(64,1028,64),\n",
    "         freq=(5,100,2.5))\n",
    "def update_ricker_plot(duration_sec,freq):\n",
    "    plot_ricker_wavelet(duration_sec/1000,dt,freq)"
   ]
  },
  {
   "cell_type": "markdown",
   "metadata": {},
   "source": [
    "### Wavelet Gabor"
   ]
  },
  {
   "cell_type": "code",
   "execution_count": 56,
   "metadata": {},
   "outputs": [],
   "source": [
    "def plot_gabor_wavelet(duration,dt,freq):\n",
    "    fig, axes = plt.subplots(ncols=2,figsize=(12,5))\n",
    "\n",
    "    wave_ricker,t_wave = wavelets.gabor(duration,dt=dt,f=freq,return_t=True)\n",
    "    \n",
    "    axes[0].set_title(f'Wavelet Gabor de fase zero com frequência = {freq} Hz')\n",
    "    axes[0].plot(t_wave,wave_ricker,color='black')\n",
    "    axes[0].fill_between(x=t_wave,y1=wave_ricker,y2=0,where=(wave_ricker>0),color='blue')\n",
    "    axes[0].fill_between(x=t_wave,y1=wave_ricker,y2=0,where=(wave_ricker<0),color='red')\n",
    "    \n",
    "    N = len(wave_ricker)\n",
    "    dt=dt\n",
    "    f_max = 1/(2*dt)\n",
    "\n",
    "    yf = fft(wave_ricker)\n",
    "    xf = np.linspace(0,f_max,N//2)\n",
    "\n",
    "    axes[1].plot(xf,2.0/N * np.abs(yf[:N//2]),c='black')\n",
    "    axes[1].fill_between(x=xf,y1= 2.0/N * np.abs(yf[0:N//2]),y2=0,\n",
    "                 color='blue',alpha=0.5,\n",
    "                 where=(2.0/N * np.abs(yf[0:N//2])>0))\n",
    "\n",
    "    axes[1].set_title('Espectro de Frequência')\n",
    "    \n",
    "    fig.tight_layout()\n",
    "    fig.show()"
   ]
  },
  {
   "cell_type": "code",
   "execution_count": 61,
   "metadata": {},
   "outputs": [
    {
     "data": {
      "application/vnd.jupyter.widget-view+json": {
       "model_id": "7e56e0ac77934860b14f09d460b8b336",
       "version_major": 2,
       "version_minor": 0
      },
      "text/plain": [
       "interactive(children=(IntSlider(value=512, description='duration_sec', max=1028, min=64, step=64), FloatSlider…"
      ]
     },
     "metadata": {},
     "output_type": "display_data"
    }
   ],
   "source": [
    "dt = 0.002\n",
    "@interact(duration_sec=(64,1028,64),\n",
    "         freq=(5,100,2.5))\n",
    "def update_gabor_plot(duration_sec,freq):\n",
    "    plot_gabor_wavelet(duration_sec/1000,dt,freq)"
   ]
  },
  {
   "cell_type": "markdown",
   "metadata": {},
   "source": [
    "## Wavelet Ormby"
   ]
  },
  {
   "cell_type": "code",
   "execution_count": 62,
   "metadata": {},
   "outputs": [],
   "source": [
    "def plot_ormsby_wavelet(duration,dt,f1,f2,f3,f4):\n",
    "    fig, axes = plt.subplots(ncols=2,figsize=(12,5))\n",
    "\n",
    "    wave_ricker,t_wave = wavelets.ormsby(duration,dt=dt,f=(f1,f2,f3,f4),return_t=True)\n",
    "    \n",
    "    axes[0].set_title(f'Wavelet Ormsby de fase zero com frequência')\n",
    "    axes[0].plot(t_wave,wave_ricker,color='black')\n",
    "    axes[0].fill_between(x=t_wave,y1=wave_ricker,y2=0,where=(wave_ricker>0),color='blue')\n",
    "    axes[0].fill_between(x=t_wave,y1=wave_ricker,y2=0,where=(wave_ricker<0),color='red')\n",
    "    \n",
    "    N = len(wave_ricker)\n",
    "    dt=dt\n",
    "    f_max = 1/(2*dt)\n",
    "\n",
    "    yf = fft(wave_ricker)\n",
    "    xf = np.linspace(0,f_max,N//2)\n",
    "\n",
    "    axes[1].plot(xf,2.0/N * np.abs(yf[:N//2]),c='black')\n",
    "    axes[1].fill_between(x=xf,y1= 2.0/N * np.abs(yf[0:N//2]),y2=0,\n",
    "                 color='blue',alpha=0.5,\n",
    "                 where=(2.0/N * np.abs(yf[0:N//2])>0))\n",
    "\n",
    "    axes[1].set_title('Espectro de Frequência')\n",
    "    \n",
    "    fig.tight_layout()\n",
    "    fig.show()"
   ]
  },
  {
   "cell_type": "code",
   "execution_count": 68,
   "metadata": {},
   "outputs": [
    {
     "data": {
      "application/vnd.jupyter.widget-view+json": {
       "model_id": "21b95b422ddd4a87bdc79f8248df5dc9",
       "version_major": 2,
       "version_minor": 0
      },
      "text/plain": [
       "interactive(children=(IntSlider(value=512, description='duration_sec', max=1028, min=64, step=64), FloatSlider…"
      ]
     },
     "metadata": {},
     "output_type": "display_data"
    }
   ],
   "source": [
    "@interact(duration_sec=(64,1028,64),\n",
    "                 f1_hz=(0,100,2.5),\n",
    "                 f2_hz=(5,100,2.5),\n",
    "                 f3_hz=(10,100,2.5),\n",
    "                 f4_hz=(20,100,2.5))\n",
    "def update_omsby_plot(duration_sec,f1_hz,f2_hz,f3_hz,f4_hz):\n",
    "    plot_ormsby_wavelet(duration_sec/1000,dt,f1_hz,f2_hz,f3_hz,f4_hz)          \n"
   ]
  },
  {
   "cell_type": "code",
   "execution_count": null,
   "metadata": {},
   "outputs": [],
   "source": []
  }
 ],
 "metadata": {
  "kernelspec": {
   "display_name": "Python 3",
   "language": "python",
   "name": "python3"
  },
  "language_info": {
   "codemirror_mode": {
    "name": "ipython",
    "version": 3
   },
   "file_extension": ".py",
   "mimetype": "text/x-python",
   "name": "python",
   "nbconvert_exporter": "python",
   "pygments_lexer": "ipython3",
   "version": "3.8.5"
  }
 },
 "nbformat": 4,
 "nbformat_minor": 4
}
